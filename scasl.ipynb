{
 "cells": [
  {
   "cell_type": "markdown",
   "metadata": {},
   "source": [
    "# Clase 1\n",
    "## Fundamentos de Python\n",
    "#### Tópicos a tratar\n",
    "* Variables en Python\n",
    "* Uso de Python como calculadora\n",
    "* Sintaxis en Python\n",
    "* Semántica en Python\n",
    "* Condicionales\n",
    "    - Simples\n",
    "    - Anidados\n",
    "    - Encadenados\n",
    "* Ciclos finitos\n",
    "* Ciclos infinitos\n",
    "* Funciones"
   ]
  },
  {
   "cell_type": "code",
   "execution_count": 3,
   "metadata": {},
   "outputs": [
    {
     "data": {
      "text/plain": [
       "88"
      ]
     },
     "execution_count": 3,
     "metadata": {},
     "output_type": "execute_result"
    }
   ],
   "source": [
    "# comentarios\n",
    "# suma \n",
    "52 + 36"
   ]
  },
  {
   "cell_type": "code",
   "execution_count": 4,
   "metadata": {},
   "outputs": [
    {
     "data": {
      "text/plain": [
       "16"
      ]
     },
     "execution_count": 4,
     "metadata": {},
     "output_type": "execute_result"
    }
   ],
   "source": [
    "#restar\n",
    "52 - 36"
   ]
  },
  {
   "cell_type": "code",
   "execution_count": 5,
   "metadata": {},
   "outputs": [
    {
     "data": {
      "text/plain": [
       "1904"
      ]
     },
     "execution_count": 5,
     "metadata": {},
     "output_type": "execute_result"
    }
   ],
   "source": [
    "# multiplicador\n",
    "34 * 56"
   ]
  },
  {
   "cell_type": "code",
   "execution_count": 6,
   "metadata": {},
   "outputs": [
    {
     "data": {
      "text/plain": [
       "0.6222222222222222"
      ]
     },
     "execution_count": 6,
     "metadata": {},
     "output_type": "execute_result"
    }
   ],
   "source": [
    "#dividor\n",
    "56 / 90"
   ]
  },
  {
   "cell_type": "code",
   "execution_count": 8,
   "metadata": {},
   "outputs": [
    {
     "name": "stdout",
     "output_type": "stream",
     "text": [
      "12\n",
      "22\n",
      "32\n"
     ]
    }
   ],
   "source": [
    "print(10 + 2)\n",
    "print(20 + 2)\n",
    "print(30 + 2)"
   ]
  },
  {
   "cell_type": "code",
   "execution_count": 14,
   "metadata": {},
   "outputs": [
    {
     "name": "stdout",
     "output_type": "stream",
     "text": [
      "El resultado de la operación es: 30\n"
     ]
    }
   ],
   "source": [
    "# variables\n",
    "variable_1 = 10\n",
    "variable_2 = 20\n",
    "\n",
    "suma_1 = variable_1 + variable_2\n",
    "print(f\"El resultado de la operación es: {suma_1}\")"
   ]
  },
  {
   "cell_type": "code",
   "execution_count": 16,
   "metadata": {},
   "outputs": [
    {
     "ename": "SyntaxError",
     "evalue": "invalid syntax (517908079.py, line 1)",
     "output_type": "error",
     "traceback": [
      "\u001b[1;36m  Cell \u001b[1;32mIn[16], line 1\u001b[1;36m\u001b[0m\n\u001b[1;33m    variable 3 = 30\u001b[0m\n\u001b[1;37m             ^\u001b[0m\n\u001b[1;31mSyntaxError\u001b[0m\u001b[1;31m:\u001b[0m invalid syntax\n"
     ]
    }
   ],
   "source": [
    "variable 3 = 30"
   ]
  },
  {
   "cell_type": "code",
   "execution_count": 17,
   "metadata": {},
   "outputs": [
    {
     "ename": "SyntaxError",
     "evalue": "invalid syntax (1856664930.py, line 1)",
     "output_type": "error",
     "traceback": [
      "\u001b[1;36m  Cell \u001b[1;32mIn[17], line 1\u001b[1;36m\u001b[0m\n\u001b[1;33m    variable.3 = 30\u001b[0m\n\u001b[1;37m            ^\u001b[0m\n\u001b[1;31mSyntaxError\u001b[0m\u001b[1;31m:\u001b[0m invalid syntax\n"
     ]
    }
   ],
   "source": [
    "variable.3 = 30"
   ]
  },
  {
   "cell_type": "code",
   "execution_count": 18,
   "metadata": {},
   "outputs": [
    {
     "ename": "SyntaxError",
     "evalue": "cannot assign to expression here. Maybe you meant '==' instead of '='? (103604413.py, line 1)",
     "output_type": "error",
     "traceback": [
      "\u001b[1;36m  Cell \u001b[1;32mIn[18], line 1\u001b[1;36m\u001b[0m\n\u001b[1;33m    variable*3 = 30\u001b[0m\n\u001b[1;37m    ^\u001b[0m\n\u001b[1;31mSyntaxError\u001b[0m\u001b[1;31m:\u001b[0m cannot assign to expression here. Maybe you meant '==' instead of '='?\n"
     ]
    }
   ],
   "source": [
    "variable*3 = 30"
   ]
  },
  {
   "cell_type": "code",
   "execution_count": 20,
   "metadata": {},
   "outputs": [],
   "source": [
    "Variable3 = 40"
   ]
  },
  {
   "cell_type": "code",
   "execution_count": 19,
   "metadata": {},
   "outputs": [],
   "source": [
    "PrimerNombre = \"Josefino\""
   ]
  },
  {
   "cell_type": "code",
   "execution_count": 22,
   "metadata": {},
   "outputs": [
    {
     "name": "stdout",
     "output_type": "stream",
     "text": [
      "10.0\n"
     ]
    }
   ],
   "source": [
    "qweih = 10\n",
    "asdja = 2\n",
    "\n",
    "zxcv = (qweih * asdja)/2\n",
    "\n",
    "print(zxcv)\n"
   ]
  },
  {
   "cell_type": "code",
   "execution_count": 57,
   "metadata": {},
   "outputs": [
    {
     "name": "stdout",
     "output_type": "stream",
     "text": [
      "Hola javi\n",
      "tu edad es: 18\n",
      "El doble de tu edad es:  36\n",
      "Eres mayor de edad.\n"
     ]
    }
   ],
   "source": [
    "# condicionales simples\n",
    "nombre = input(\"Ingrese su nombre: \")\n",
    "print(f\"Hola {nombre}\")\n",
    "\n",
    "edad = int(input(\"ingrese su edad: \"))\n",
    "print(f\"tu edad es: {edad}\")\n",
    "\n",
    "print(\"El doble de tu edad es: \", 2 * int(edad))\n",
    "\n",
    "#comprobando una condición\n",
    "if edad >= 18:\n",
    "    print(\"Eres mayor de edad.\")\n",
    "\n",
    "else:\n",
    "    print(\"No eres mayor de edad.\")"
   ]
  },
  {
   "cell_type": "code",
   "execution_count": null,
   "metadata": {},
   "outputs": [],
   "source": [
    "# cómo resolver"
   ]
  },
  {
   "cell_type": "code",
   "execution_count": 44,
   "metadata": {},
   "outputs": [
    {
     "name": "stdout",
     "output_type": "stream",
     "text": [
      "<class 'str'>\n",
      "<class 'int'>\n",
      "<class 'float'>\n",
      "<class 'bool'>\n"
     ]
    }
   ],
   "source": [
    "# tipo de datos\n",
    "PrimerNombre = \"Josefino\"\n",
    "print(type(PrimerNombre))\n",
    "print(type(variable_1))\n",
    "print(type(0.2))\n",
    "print(type(True))"
   ]
  },
  {
   "cell_type": "code",
   "execution_count": 47,
   "metadata": {},
   "outputs": [
    {
     "name": "stdout",
     "output_type": "stream",
     "text": [
      "1010\n",
      "20\n"
     ]
    }
   ],
   "source": [
    "# concatenación de cadenas\n",
    "print(\"10\" + \"10\")\n",
    "\n",
    "# suma de dos enteros\n",
    "print(10 + 10)"
   ]
  },
  {
   "cell_type": "code",
   "execution_count": 64,
   "metadata": {},
   "outputs": [
    {
     "name": "stdout",
     "output_type": "stream",
     "text": [
      "No disponible\n"
     ]
    }
   ],
   "source": [
    "# Condicional encadenado\n",
    "\n",
    "# Solicita el sabor del helado\n",
    "helado = input(\"Ingresa el sabor del helado: \")\n",
    "\n",
    "# Comprueba el precio del helado\n",
    "if helado == \"fresa\":\n",
    "    print(\"PRECIO: $1.2\")\n",
    "elif helado == \"chocolate\":\n",
    "    print(\"PRECIO: $1.5\")\n",
    "elif helado == \"coco\":\n",
    "    print(\"PRECIO: $0.9\")\n",
    "else:\n",
    "    print(\"No disponible\")"
   ]
  },
  {
   "cell_type": "code",
   "execution_count": 69,
   "metadata": {},
   "outputs": [
    {
     "name": "stdout",
     "output_type": "stream",
     "text": [
      "['cambur', 'patilla', 'mango', 'fresa', 'coco']\n",
      "<class 'list'>\n",
      "5\n",
      "cambur\n",
      "patilla\n",
      "mango\n",
      "fresa\n",
      "coco\n",
      "Listo.\n"
     ]
    }
   ],
   "source": [
    "# Ciclos finitos\n",
    "\n",
    "frutas = [\"cambur\", \"patilla\", \"mango\", \"fresa\", \"coco\"]\n",
    "print(frutas)\n",
    "\n",
    "# Devuelve el tipo de datos\n",
    "print(type(frutas))\n",
    "\n",
    "# Devuelve la longitud de la lista\n",
    "print(len(frutas))\n",
    "\n",
    "# Implementando un ciclo finito\n",
    "for i in frutas:\n",
    "    print(i)\n",
    "print(\"Listo.\")"
   ]
  },
  {
   "cell_type": "code",
   "execution_count": 72,
   "metadata": {},
   "outputs": [],
   "source": [
    "# Ciclo infinito\n",
    "control = True\n",
    "\n",
    "while control:\n",
    "    contraseña = int(input(\"Ingresa tu contraseña: \"))\n",
    "    if contraseña == 1234:\n",
    "        control = False\n",
    "        print(\"Bienvenido\")\n",
    "    else:\n",
    "        print(\"Sigue intentando.\")"
   ]
  },
  {
   "cell_type": "code",
   "execution_count": null,
   "metadata": {},
   "outputs": [],
   "source": [
    "def suma_dos(num_1, num_2)\n",
    "    num_1 = input(\"ingrese número 1: \")\n",
    "    num_1 = float(num_1)\n",
    "\n",
    "    num_2 = input(\"ingrese número 2: \")\n",
    "    num_2 = float(num_2)\n",
    "    return print(f\"El resultado de la suma es...  {suma}\")"
   ]
  },
  {
   "cell_type": "code",
   "execution_count": 4,
   "metadata": {},
   "outputs": [
    {
     "ename": "NameError",
     "evalue": "name 'suma_dos' is not defined",
     "output_type": "error",
     "traceback": [
      "\u001b[1;31m---------------------------------------------------------------------------\u001b[0m",
      "\u001b[1;31mNameError\u001b[0m                                 Traceback (most recent call last)",
      "\u001b[1;32mc:\\Users\\Reinaldo\\Desktop\\Python fundamentals\\scasl.ipynb Cell 22\u001b[0m line \u001b[0;36m1\n\u001b[1;32m----> <a href='vscode-notebook-cell:/c%3A/Users/Reinaldo/Desktop/Python%20fundamentals/scasl.ipynb#X32sZmlsZQ%3D%3D?line=0'>1</a>\u001b[0m suma_dos\n",
      "\u001b[1;31mNameError\u001b[0m: name 'suma_dos' is not defined"
     ]
    }
   ],
   "source": [
    "suma_dos()"
   ]
  }
 ],
 "metadata": {
  "kernelspec": {
   "display_name": "Python 3",
   "language": "python",
   "name": "python3"
  },
  "language_info": {
   "codemirror_mode": {
    "name": "ipython",
    "version": 3
   },
   "file_extension": ".py",
   "mimetype": "text/x-python",
   "name": "python",
   "nbconvert_exporter": "python",
   "pygments_lexer": "ipython3",
   "version": "3.12.0"
  },
  "orig_nbformat": 4
 },
 "nbformat": 4,
 "nbformat_minor": 2
}
